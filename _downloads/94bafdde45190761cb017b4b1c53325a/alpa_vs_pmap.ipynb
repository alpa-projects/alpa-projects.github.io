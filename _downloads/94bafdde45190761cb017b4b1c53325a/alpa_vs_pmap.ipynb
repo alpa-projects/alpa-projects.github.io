{
  "cells": [
    {
      "cell_type": "code",
      "execution_count": null,
      "metadata": {
        "collapsed": false
      },
      "outputs": [],
      "source": [
        "%matplotlib inline"
      ]
    },
    {
      "cell_type": "markdown",
      "metadata": {},
      "source": [
        "\n# Difference between alpa.parallelize and jax.pmap\n\nThe most common tool for parallelization or distributed computing in jax is\n`pmap <https://jax.readthedocs.io/en/latest/jax.html#parallelization-pmap>`_.\nWith several lines of code change, we can use ``pmap`` for data parallel\ntraining. However, we cannot use ``pmap`` for model parallel training,\nwhich is required for training large models with billions of parameters.\n\nOn the contrary, ``alpa.parallelize`` supports both data parallelism and\nmodel parallelism in an automatic way. ``alpa.parallelize`` analyzes the\njax computational graph and picks the best strategy.\nIf data parallelism is more suitable, ``alpa.parallelize`` achieves the same\nperformance as ``pmap`` but with less code change.\nIf model parallelism is more suitable, ``alpa.parallelize`` achieves better performance\nand uses less memory than ``pmap``.\n\nIn this tutorial, we are going to compare ``alpa.parallelize`` and ``pmap`` on two\nworkloads. A more detailed comparison among ``alpa.parallelize``, ``pmap``, and ``xmap``\nis also attached at the end of the article.\n"
      ]
    },
    {
      "cell_type": "markdown",
      "metadata": {},
      "source": [
        "## When data parallelism is prefered\n\n"
      ]
    },
    {
      "cell_type": "code",
      "execution_count": null,
      "metadata": {
        "collapsed": false
      },
      "outputs": [],
      "source": [
        "# TODO"
      ]
    },
    {
      "cell_type": "markdown",
      "metadata": {},
      "source": [
        "## When model parallelism is prefered\n\n"
      ]
    },
    {
      "cell_type": "code",
      "execution_count": null,
      "metadata": {
        "collapsed": false
      },
      "outputs": [],
      "source": [
        "# TODO"
      ]
    },
    {
      "cell_type": "markdown",
      "metadata": {},
      "source": [
        "## Comparing ``alpa.parallelize``, ``pmap``, and ``xmap``\nBesides ``pmap``, jax also provides\n`xmap <https://jax.readthedocs.io/en/latest/notebooks/xmap_tutorial.html>`_\nfor more advanced parallelization.\nThe table below compares the features of ``alpa.parallelize``, ``pmap``, and ``xmap``.\nIn summary, ``alpa.parallelize`` supports more parallelism techniques in a\nmore automatic way.\n\n================  ================ ==================== ==================== =========\nTransformation    Data Parallelism Operator Parallelism Pipeline Parallelism Automated\n================  ================ ==================== ==================== =========\nalpa.parallelize  yes              yes                  yes                  yes\npmap              yes              no                   no                   no\nxmap              yes              yes                  no                   no\n================  ================ ==================== ==================== =========\n\n<div class=\"alert alert-info\"><h4>Note</h4><p>Operator parallelism and pipeline parallelism are two forms of model parallelism.\n  Operator parallelism partitions the work in a single operator and assigns them\n  to different devices. Pipeline parallelism partitions the computational\n  graphs and assigns different operators to different devices.</p></div>\n\n"
      ]
    }
  ],
  "metadata": {
    "kernelspec": {
      "display_name": "Python 3",
      "language": "python",
      "name": "python3"
    },
    "language_info": {
      "codemirror_mode": {
        "name": "ipython",
        "version": 3
      },
      "file_extension": ".py",
      "mimetype": "text/x-python",
      "name": "python",
      "nbconvert_exporter": "python",
      "pygments_lexer": "ipython3",
      "version": "3.7.10"
    }
  },
  "nbformat": 4,
  "nbformat_minor": 0
}